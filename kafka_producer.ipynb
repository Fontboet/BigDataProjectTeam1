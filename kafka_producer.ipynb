{
 "cells": [
  {
   "cell_type": "markdown",
   "id": "10bbcbb8",
   "metadata": {},
   "source": [
    "**Importing librairies**"
   ]
  },
  {
   "cell_type": "code",
   "execution_count": 16,
   "id": "39f0ecbd",
   "metadata": {},
   "outputs": [
    {
     "name": "stdout",
     "output_type": "stream",
     "text": [
      "Libraries imported successfully.\n"
     ]
    }
   ],
   "source": [
    "from kafka import KafkaProducer\n",
    "import csv\n",
    "import json\n",
    "import time\n",
    "\n",
    "print(\"Libraries imported successfully.\")"
   ]
  },
  {
   "cell_type": "code",
   "execution_count": 17,
   "id": "62d44aac",
   "metadata": {},
   "outputs": [],
   "source": [
    "producer = KafkaProducer(bootstrap_servers='localhost:9092', value_serializer=lambda v: json.dumps(v).encode('utf-8'))"
   ]
  },
  {
   "cell_type": "code",
   "execution_count": 18,
   "id": "99a80984",
   "metadata": {},
   "outputs": [
    {
     "name": "stdout",
     "output_type": "stream",
     "text": [
      "Starting to produce messages...\n",
      "Sent: {'YEAR': '2015', 'MONTH': '1', 'DAY': '1', 'DAY_OF_WEEK': '4', 'AIRLINE': 'AS', 'FLIGHT_NUMBER': '98', 'TAIL_NUMBER': 'N407AS', 'ORIGIN_AIRPORT': 'ANC', 'DESTINATION_AIRPORT': 'SEA', 'SCHEDULED_DEPARTURE': '0005', 'DEPARTURE_TIME': '2354', 'DEPARTURE_DELAY': '-11', 'TAXI_OUT': '21', 'WHEELS_OFF': '0015', 'SCHEDULED_TIME': '205', 'ELAPSED_TIME': '194', 'AIR_TIME': '169', 'DISTANCE': '1448', 'WHEELS_ON': '0404', 'TAXI_IN': '4', 'SCHEDULED_ARRIVAL': '0430', 'ARRIVAL_TIME': '0408', 'ARRIVAL_DELAY': '-22', 'DIVERTED': '0', 'CANCELLED': '0', 'CANCELLATION_REASON': '', 'AIR_SYSTEM_DELAY': '', 'SECURITY_DELAY': '', 'AIRLINE_DELAY': '', 'LATE_AIRCRAFT_DELAY': '', 'WEATHER_DELAY': ''}\n",
      "Sent: {'YEAR': '2015', 'MONTH': '1', 'DAY': '1', 'DAY_OF_WEEK': '4', 'AIRLINE': 'AA', 'FLIGHT_NUMBER': '2336', 'TAIL_NUMBER': 'N3KUAA', 'ORIGIN_AIRPORT': 'LAX', 'DESTINATION_AIRPORT': 'PBI', 'SCHEDULED_DEPARTURE': '0010', 'DEPARTURE_TIME': '0002', 'DEPARTURE_DELAY': '-8', 'TAXI_OUT': '12', 'WHEELS_OFF': '0014', 'SCHEDULED_TIME': '280', 'ELAPSED_TIME': '279', 'AIR_TIME': '263', 'DISTANCE': '2330', 'WHEELS_ON': '0737', 'TAXI_IN': '4', 'SCHEDULED_ARRIVAL': '0750', 'ARRIVAL_TIME': '0741', 'ARRIVAL_DELAY': '-9', 'DIVERTED': '0', 'CANCELLED': '0', 'CANCELLATION_REASON': '', 'AIR_SYSTEM_DELAY': '', 'SECURITY_DELAY': '', 'AIRLINE_DELAY': '', 'LATE_AIRCRAFT_DELAY': '', 'WEATHER_DELAY': ''}\n",
      "Sent: {'YEAR': '2015', 'MONTH': '1', 'DAY': '1', 'DAY_OF_WEEK': '4', 'AIRLINE': 'US', 'FLIGHT_NUMBER': '840', 'TAIL_NUMBER': 'N171US', 'ORIGIN_AIRPORT': 'SFO', 'DESTINATION_AIRPORT': 'CLT', 'SCHEDULED_DEPARTURE': '0020', 'DEPARTURE_TIME': '0018', 'DEPARTURE_DELAY': '-2', 'TAXI_OUT': '16', 'WHEELS_OFF': '0034', 'SCHEDULED_TIME': '286', 'ELAPSED_TIME': '293', 'AIR_TIME': '266', 'DISTANCE': '2296', 'WHEELS_ON': '0800', 'TAXI_IN': '11', 'SCHEDULED_ARRIVAL': '0806', 'ARRIVAL_TIME': '0811', 'ARRIVAL_DELAY': '5', 'DIVERTED': '0', 'CANCELLED': '0', 'CANCELLATION_REASON': '', 'AIR_SYSTEM_DELAY': '', 'SECURITY_DELAY': '', 'AIRLINE_DELAY': '', 'LATE_AIRCRAFT_DELAY': '', 'WEATHER_DELAY': ''}\n",
      "Sent: {'YEAR': '2015', 'MONTH': '1', 'DAY': '1', 'DAY_OF_WEEK': '4', 'AIRLINE': 'AA', 'FLIGHT_NUMBER': '258', 'TAIL_NUMBER': 'N3HYAA', 'ORIGIN_AIRPORT': 'LAX', 'DESTINATION_AIRPORT': 'MIA', 'SCHEDULED_DEPARTURE': '0020', 'DEPARTURE_TIME': '0015', 'DEPARTURE_DELAY': '-5', 'TAXI_OUT': '15', 'WHEELS_OFF': '0030', 'SCHEDULED_TIME': '285', 'ELAPSED_TIME': '281', 'AIR_TIME': '258', 'DISTANCE': '2342', 'WHEELS_ON': '0748', 'TAXI_IN': '8', 'SCHEDULED_ARRIVAL': '0805', 'ARRIVAL_TIME': '0756', 'ARRIVAL_DELAY': '-9', 'DIVERTED': '0', 'CANCELLED': '0', 'CANCELLATION_REASON': '', 'AIR_SYSTEM_DELAY': '', 'SECURITY_DELAY': '', 'AIRLINE_DELAY': '', 'LATE_AIRCRAFT_DELAY': '', 'WEATHER_DELAY': ''}\n",
      "Sent: {'YEAR': '2015', 'MONTH': '1', 'DAY': '1', 'DAY_OF_WEEK': '4', 'AIRLINE': 'AS', 'FLIGHT_NUMBER': '135', 'TAIL_NUMBER': 'N527AS', 'ORIGIN_AIRPORT': 'SEA', 'DESTINATION_AIRPORT': 'ANC', 'SCHEDULED_DEPARTURE': '0025', 'DEPARTURE_TIME': '0024', 'DEPARTURE_DELAY': '-1', 'TAXI_OUT': '11', 'WHEELS_OFF': '0035', 'SCHEDULED_TIME': '235', 'ELAPSED_TIME': '215', 'AIR_TIME': '199', 'DISTANCE': '1448', 'WHEELS_ON': '0254', 'TAXI_IN': '5', 'SCHEDULED_ARRIVAL': '0320', 'ARRIVAL_TIME': '0259', 'ARRIVAL_DELAY': '-21', 'DIVERTED': '0', 'CANCELLED': '0', 'CANCELLATION_REASON': '', 'AIR_SYSTEM_DELAY': '', 'SECURITY_DELAY': '', 'AIRLINE_DELAY': '', 'LATE_AIRCRAFT_DELAY': '', 'WEATHER_DELAY': ''}\n",
      "Sent: {'YEAR': '2015', 'MONTH': '1', 'DAY': '1', 'DAY_OF_WEEK': '4', 'AIRLINE': 'DL', 'FLIGHT_NUMBER': '806', 'TAIL_NUMBER': 'N3730B', 'ORIGIN_AIRPORT': 'SFO', 'DESTINATION_AIRPORT': 'MSP', 'SCHEDULED_DEPARTURE': '0025', 'DEPARTURE_TIME': '0020', 'DEPARTURE_DELAY': '-5', 'TAXI_OUT': '18', 'WHEELS_OFF': '0038', 'SCHEDULED_TIME': '217', 'ELAPSED_TIME': '230', 'AIR_TIME': '206', 'DISTANCE': '1589', 'WHEELS_ON': '0604', 'TAXI_IN': '6', 'SCHEDULED_ARRIVAL': '0602', 'ARRIVAL_TIME': '0610', 'ARRIVAL_DELAY': '8', 'DIVERTED': '0', 'CANCELLED': '0', 'CANCELLATION_REASON': '', 'AIR_SYSTEM_DELAY': '', 'SECURITY_DELAY': '', 'AIRLINE_DELAY': '', 'LATE_AIRCRAFT_DELAY': '', 'WEATHER_DELAY': ''}\n",
      "Sent: {'YEAR': '2015', 'MONTH': '1', 'DAY': '1', 'DAY_OF_WEEK': '4', 'AIRLINE': 'NK', 'FLIGHT_NUMBER': '612', 'TAIL_NUMBER': 'N635NK', 'ORIGIN_AIRPORT': 'LAS', 'DESTINATION_AIRPORT': 'MSP', 'SCHEDULED_DEPARTURE': '0025', 'DEPARTURE_TIME': '0019', 'DEPARTURE_DELAY': '-6', 'TAXI_OUT': '11', 'WHEELS_OFF': '0030', 'SCHEDULED_TIME': '181', 'ELAPSED_TIME': '170', 'AIR_TIME': '154', 'DISTANCE': '1299', 'WHEELS_ON': '0504', 'TAXI_IN': '5', 'SCHEDULED_ARRIVAL': '0526', 'ARRIVAL_TIME': '0509', 'ARRIVAL_DELAY': '-17', 'DIVERTED': '0', 'CANCELLED': '0', 'CANCELLATION_REASON': '', 'AIR_SYSTEM_DELAY': '', 'SECURITY_DELAY': '', 'AIRLINE_DELAY': '', 'LATE_AIRCRAFT_DELAY': '', 'WEATHER_DELAY': ''}\n",
      "Sent: {'YEAR': '2015', 'MONTH': '1', 'DAY': '1', 'DAY_OF_WEEK': '4', 'AIRLINE': 'US', 'FLIGHT_NUMBER': '2013', 'TAIL_NUMBER': 'N584UW', 'ORIGIN_AIRPORT': 'LAX', 'DESTINATION_AIRPORT': 'CLT', 'SCHEDULED_DEPARTURE': '0030', 'DEPARTURE_TIME': '0044', 'DEPARTURE_DELAY': '14', 'TAXI_OUT': '13', 'WHEELS_OFF': '0057', 'SCHEDULED_TIME': '273', 'ELAPSED_TIME': '249', 'AIR_TIME': '228', 'DISTANCE': '2125', 'WHEELS_ON': '0745', 'TAXI_IN': '8', 'SCHEDULED_ARRIVAL': '0803', 'ARRIVAL_TIME': '0753', 'ARRIVAL_DELAY': '-10', 'DIVERTED': '0', 'CANCELLED': '0', 'CANCELLATION_REASON': '', 'AIR_SYSTEM_DELAY': '', 'SECURITY_DELAY': '', 'AIRLINE_DELAY': '', 'LATE_AIRCRAFT_DELAY': '', 'WEATHER_DELAY': ''}\n",
      "Sent: {'YEAR': '2015', 'MONTH': '1', 'DAY': '1', 'DAY_OF_WEEK': '4', 'AIRLINE': 'AA', 'FLIGHT_NUMBER': '1112', 'TAIL_NUMBER': 'N3LAAA', 'ORIGIN_AIRPORT': 'SFO', 'DESTINATION_AIRPORT': 'DFW', 'SCHEDULED_DEPARTURE': '0030', 'DEPARTURE_TIME': '0019', 'DEPARTURE_DELAY': '-11', 'TAXI_OUT': '17', 'WHEELS_OFF': '0036', 'SCHEDULED_TIME': '195', 'ELAPSED_TIME': '193', 'AIR_TIME': '173', 'DISTANCE': '1464', 'WHEELS_ON': '0529', 'TAXI_IN': '3', 'SCHEDULED_ARRIVAL': '0545', 'ARRIVAL_TIME': '0532', 'ARRIVAL_DELAY': '-13', 'DIVERTED': '0', 'CANCELLED': '0', 'CANCELLATION_REASON': '', 'AIR_SYSTEM_DELAY': '', 'SECURITY_DELAY': '', 'AIRLINE_DELAY': '', 'LATE_AIRCRAFT_DELAY': '', 'WEATHER_DELAY': ''}\n",
      "Sent: {'YEAR': '2015', 'MONTH': '1', 'DAY': '1', 'DAY_OF_WEEK': '4', 'AIRLINE': 'DL', 'FLIGHT_NUMBER': '1173', 'TAIL_NUMBER': 'N826DN', 'ORIGIN_AIRPORT': 'LAS', 'DESTINATION_AIRPORT': 'ATL', 'SCHEDULED_DEPARTURE': '0030', 'DEPARTURE_TIME': '0033', 'DEPARTURE_DELAY': '3', 'TAXI_OUT': '12', 'WHEELS_OFF': '0045', 'SCHEDULED_TIME': '221', 'ELAPSED_TIME': '203', 'AIR_TIME': '186', 'DISTANCE': '1747', 'WHEELS_ON': '0651', 'TAXI_IN': '5', 'SCHEDULED_ARRIVAL': '0711', 'ARRIVAL_TIME': '0656', 'ARRIVAL_DELAY': '-15', 'DIVERTED': '0', 'CANCELLED': '0', 'CANCELLATION_REASON': '', 'AIR_SYSTEM_DELAY': '', 'SECURITY_DELAY': '', 'AIRLINE_DELAY': '', 'LATE_AIRCRAFT_DELAY': '', 'WEATHER_DELAY': ''}\n",
      "Sent: {'YEAR': '2015', 'MONTH': '1', 'DAY': '1', 'DAY_OF_WEEK': '4', 'AIRLINE': 'DL', 'FLIGHT_NUMBER': '2336', 'TAIL_NUMBER': 'N958DN', 'ORIGIN_AIRPORT': 'DEN', 'DESTINATION_AIRPORT': 'ATL', 'SCHEDULED_DEPARTURE': '0030', 'DEPARTURE_TIME': '0024', 'DEPARTURE_DELAY': '-6', 'TAXI_OUT': '12', 'WHEELS_OFF': '0036', 'SCHEDULED_TIME': '173', 'ELAPSED_TIME': '149', 'AIR_TIME': '133', 'DISTANCE': '1199', 'WHEELS_ON': '0449', 'TAXI_IN': '4', 'SCHEDULED_ARRIVAL': '0523', 'ARRIVAL_TIME': '0453', 'ARRIVAL_DELAY': '-30', 'DIVERTED': '0', 'CANCELLED': '0', 'CANCELLATION_REASON': '', 'AIR_SYSTEM_DELAY': '', 'SECURITY_DELAY': '', 'AIRLINE_DELAY': '', 'LATE_AIRCRAFT_DELAY': '', 'WEATHER_DELAY': ''}\n",
      "Sent: {'YEAR': '2015', 'MONTH': '1', 'DAY': '1', 'DAY_OF_WEEK': '4', 'AIRLINE': 'AA', 'FLIGHT_NUMBER': '1674', 'TAIL_NUMBER': 'N853AA', 'ORIGIN_AIRPORT': 'LAS', 'DESTINATION_AIRPORT': 'MIA', 'SCHEDULED_DEPARTURE': '0035', 'DEPARTURE_TIME': '0027', 'DEPARTURE_DELAY': '-8', 'TAXI_OUT': '21', 'WHEELS_OFF': '0048', 'SCHEDULED_TIME': '268', 'ELAPSED_TIME': '266', 'AIR_TIME': '238', 'DISTANCE': '2174', 'WHEELS_ON': '0746', 'TAXI_IN': '7', 'SCHEDULED_ARRIVAL': '0803', 'ARRIVAL_TIME': '0753', 'ARRIVAL_DELAY': '-10', 'DIVERTED': '0', 'CANCELLED': '0', 'CANCELLATION_REASON': '', 'AIR_SYSTEM_DELAY': '', 'SECURITY_DELAY': '', 'AIRLINE_DELAY': '', 'LATE_AIRCRAFT_DELAY': '', 'WEATHER_DELAY': ''}\n",
      "Sent: {'YEAR': '2015', 'MONTH': '1', 'DAY': '1', 'DAY_OF_WEEK': '4', 'AIRLINE': 'DL', 'FLIGHT_NUMBER': '1434', 'TAIL_NUMBER': 'N547US', 'ORIGIN_AIRPORT': 'LAX', 'DESTINATION_AIRPORT': 'MSP', 'SCHEDULED_DEPARTURE': '0035', 'DEPARTURE_TIME': '0035', 'DEPARTURE_DELAY': '0', 'TAXI_OUT': '18', 'WHEELS_OFF': '0053', 'SCHEDULED_TIME': '214', 'ELAPSED_TIME': '210', 'AIR_TIME': '188', 'DISTANCE': '1535', 'WHEELS_ON': '0601', 'TAXI_IN': '4', 'SCHEDULED_ARRIVAL': '0609', 'ARRIVAL_TIME': '0605', 'ARRIVAL_DELAY': '-4', 'DIVERTED': '0', 'CANCELLED': '0', 'CANCELLATION_REASON': '', 'AIR_SYSTEM_DELAY': '', 'SECURITY_DELAY': '', 'AIRLINE_DELAY': '', 'LATE_AIRCRAFT_DELAY': '', 'WEATHER_DELAY': ''}\n",
      "Sent: {'YEAR': '2015', 'MONTH': '1', 'DAY': '1', 'DAY_OF_WEEK': '4', 'AIRLINE': 'DL', 'FLIGHT_NUMBER': '2324', 'TAIL_NUMBER': 'N3751B', 'ORIGIN_AIRPORT': 'SLC', 'DESTINATION_AIRPORT': 'ATL', 'SCHEDULED_DEPARTURE': '0040', 'DEPARTURE_TIME': '0034', 'DEPARTURE_DELAY': '-6', 'TAXI_OUT': '18', 'WHEELS_OFF': '0052', 'SCHEDULED_TIME': '215', 'ELAPSED_TIME': '199', 'AIR_TIME': '176', 'DISTANCE': '1590', 'WHEELS_ON': '0548', 'TAXI_IN': '5', 'SCHEDULED_ARRIVAL': '0615', 'ARRIVAL_TIME': '0553', 'ARRIVAL_DELAY': '-22', 'DIVERTED': '0', 'CANCELLED': '0', 'CANCELLATION_REASON': '', 'AIR_SYSTEM_DELAY': '', 'SECURITY_DELAY': '', 'AIRLINE_DELAY': '', 'LATE_AIRCRAFT_DELAY': '', 'WEATHER_DELAY': ''}\n",
      "Sent: {'YEAR': '2015', 'MONTH': '1', 'DAY': '1', 'DAY_OF_WEEK': '4', 'AIRLINE': 'DL', 'FLIGHT_NUMBER': '2440', 'TAIL_NUMBER': 'N651DL', 'ORIGIN_AIRPORT': 'SEA', 'DESTINATION_AIRPORT': 'MSP', 'SCHEDULED_DEPARTURE': '0040', 'DEPARTURE_TIME': '0039', 'DEPARTURE_DELAY': '-1', 'TAXI_OUT': '28', 'WHEELS_OFF': '0107', 'SCHEDULED_TIME': '189', 'ELAPSED_TIME': '198', 'AIR_TIME': '166', 'DISTANCE': '1399', 'WHEELS_ON': '0553', 'TAXI_IN': '4', 'SCHEDULED_ARRIVAL': '0549', 'ARRIVAL_TIME': '0557', 'ARRIVAL_DELAY': '8', 'DIVERTED': '0', 'CANCELLED': '0', 'CANCELLATION_REASON': '', 'AIR_SYSTEM_DELAY': '', 'SECURITY_DELAY': '', 'AIRLINE_DELAY': '', 'LATE_AIRCRAFT_DELAY': '', 'WEATHER_DELAY': ''}\n",
      "Sent: {'YEAR': '2015', 'MONTH': '1', 'DAY': '1', 'DAY_OF_WEEK': '4', 'AIRLINE': 'AS', 'FLIGHT_NUMBER': '108', 'TAIL_NUMBER': 'N309AS', 'ORIGIN_AIRPORT': 'ANC', 'DESTINATION_AIRPORT': 'SEA', 'SCHEDULED_DEPARTURE': '0045', 'DEPARTURE_TIME': '0041', 'DEPARTURE_DELAY': '-4', 'TAXI_OUT': '17', 'WHEELS_OFF': '0058', 'SCHEDULED_TIME': '204', 'ELAPSED_TIME': '194', 'AIR_TIME': '173', 'DISTANCE': '1448', 'WHEELS_ON': '0451', 'TAXI_IN': '4', 'SCHEDULED_ARRIVAL': '0509', 'ARRIVAL_TIME': '0455', 'ARRIVAL_DELAY': '-14', 'DIVERTED': '0', 'CANCELLED': '0', 'CANCELLATION_REASON': '', 'AIR_SYSTEM_DELAY': '', 'SECURITY_DELAY': '', 'AIRLINE_DELAY': '', 'LATE_AIRCRAFT_DELAY': '', 'WEATHER_DELAY': ''}\n",
      "Sent: {'YEAR': '2015', 'MONTH': '1', 'DAY': '1', 'DAY_OF_WEEK': '4', 'AIRLINE': 'DL', 'FLIGHT_NUMBER': '1560', 'TAIL_NUMBER': 'N3743H', 'ORIGIN_AIRPORT': 'ANC', 'DESTINATION_AIRPORT': 'SEA', 'SCHEDULED_DEPARTURE': '0045', 'DEPARTURE_TIME': '0031', 'DEPARTURE_DELAY': '-14', 'TAXI_OUT': '25', 'WHEELS_OFF': '0056', 'SCHEDULED_TIME': '210', 'ELAPSED_TIME': '200', 'AIR_TIME': '171', 'DISTANCE': '1448', 'WHEELS_ON': '0447', 'TAXI_IN': '4', 'SCHEDULED_ARRIVAL': '0515', 'ARRIVAL_TIME': '0451', 'ARRIVAL_DELAY': '-24', 'DIVERTED': '0', 'CANCELLED': '0', 'CANCELLATION_REASON': '', 'AIR_SYSTEM_DELAY': '', 'SECURITY_DELAY': '', 'AIRLINE_DELAY': '', 'LATE_AIRCRAFT_DELAY': '', 'WEATHER_DELAY': ''}\n",
      "Sent: {'YEAR': '2015', 'MONTH': '1', 'DAY': '1', 'DAY_OF_WEEK': '4', 'AIRLINE': 'UA', 'FLIGHT_NUMBER': '1197', 'TAIL_NUMBER': 'N78448', 'ORIGIN_AIRPORT': 'SFO', 'DESTINATION_AIRPORT': 'IAH', 'SCHEDULED_DEPARTURE': '0048', 'DEPARTURE_TIME': '0042', 'DEPARTURE_DELAY': '-6', 'TAXI_OUT': '11', 'WHEELS_OFF': '0053', 'SCHEDULED_TIME': '218', 'ELAPSED_TIME': '217', 'AIR_TIME': '199', 'DISTANCE': '1635', 'WHEELS_ON': '0612', 'TAXI_IN': '7', 'SCHEDULED_ARRIVAL': '0626', 'ARRIVAL_TIME': '0619', 'ARRIVAL_DELAY': '-7', 'DIVERTED': '0', 'CANCELLED': '0', 'CANCELLATION_REASON': '', 'AIR_SYSTEM_DELAY': '', 'SECURITY_DELAY': '', 'AIRLINE_DELAY': '', 'LATE_AIRCRAFT_DELAY': '', 'WEATHER_DELAY': ''}\n",
      "Sent: {'YEAR': '2015', 'MONTH': '1', 'DAY': '1', 'DAY_OF_WEEK': '4', 'AIRLINE': 'AS', 'FLIGHT_NUMBER': '122', 'TAIL_NUMBER': 'N413AS', 'ORIGIN_AIRPORT': 'ANC', 'DESTINATION_AIRPORT': 'PDX', 'SCHEDULED_DEPARTURE': '0050', 'DEPARTURE_TIME': '0046', 'DEPARTURE_DELAY': '-4', 'TAXI_OUT': '11', 'WHEELS_OFF': '0057', 'SCHEDULED_TIME': '215', 'ELAPSED_TIME': '201', 'AIR_TIME': '187', 'DISTANCE': '1542', 'WHEELS_ON': '0504', 'TAXI_IN': '3', 'SCHEDULED_ARRIVAL': '0525', 'ARRIVAL_TIME': '0507', 'ARRIVAL_DELAY': '-18', 'DIVERTED': '0', 'CANCELLED': '0', 'CANCELLATION_REASON': '', 'AIR_SYSTEM_DELAY': '', 'SECURITY_DELAY': '', 'AIRLINE_DELAY': '', 'LATE_AIRCRAFT_DELAY': '', 'WEATHER_DELAY': ''}\n",
      "Sent: {'YEAR': '2015', 'MONTH': '1', 'DAY': '1', 'DAY_OF_WEEK': '4', 'AIRLINE': 'DL', 'FLIGHT_NUMBER': '1670', 'TAIL_NUMBER': 'N806DN', 'ORIGIN_AIRPORT': 'PDX', 'DESTINATION_AIRPORT': 'MSP', 'SCHEDULED_DEPARTURE': '0050', 'DEPARTURE_TIME': '0045', 'DEPARTURE_DELAY': '-5', 'TAXI_OUT': '9', 'WHEELS_OFF': '0054', 'SCHEDULED_TIME': '193', 'ELAPSED_TIME': '186', 'AIR_TIME': '171', 'DISTANCE': '1426', 'WHEELS_ON': '0545', 'TAXI_IN': '6', 'SCHEDULED_ARRIVAL': '0603', 'ARRIVAL_TIME': '0551', 'ARRIVAL_DELAY': '-12', 'DIVERTED': '0', 'CANCELLED': '0', 'CANCELLATION_REASON': '', 'AIR_SYSTEM_DELAY': '', 'SECURITY_DELAY': '', 'AIRLINE_DELAY': '', 'LATE_AIRCRAFT_DELAY': '', 'WEATHER_DELAY': ''}\n",
      "Sent: {'YEAR': '2015', 'MONTH': '1', 'DAY': '1', 'DAY_OF_WEEK': '4', 'AIRLINE': 'NK', 'FLIGHT_NUMBER': '520', 'TAIL_NUMBER': 'N525NK', 'ORIGIN_AIRPORT': 'LAS', 'DESTINATION_AIRPORT': 'MCI', 'SCHEDULED_DEPARTURE': '0055', 'DEPARTURE_TIME': '0120', 'DEPARTURE_DELAY': '25', 'TAXI_OUT': '11', 'WHEELS_OFF': '0131', 'SCHEDULED_TIME': '162', 'ELAPSED_TIME': '143', 'AIR_TIME': '128', 'DISTANCE': '1139', 'WHEELS_ON': '0539', 'TAXI_IN': '4', 'SCHEDULED_ARRIVAL': '0537', 'ARRIVAL_TIME': '0543', 'ARRIVAL_DELAY': '6', 'DIVERTED': '0', 'CANCELLED': '0', 'CANCELLATION_REASON': '', 'AIR_SYSTEM_DELAY': '', 'SECURITY_DELAY': '', 'AIRLINE_DELAY': '', 'LATE_AIRCRAFT_DELAY': '', 'WEATHER_DELAY': ''}\n",
      "Sent: {'YEAR': '2015', 'MONTH': '1', 'DAY': '1', 'DAY_OF_WEEK': '4', 'AIRLINE': 'AA', 'FLIGHT_NUMBER': '371', 'TAIL_NUMBER': 'N3GXAA', 'ORIGIN_AIRPORT': 'SEA', 'DESTINATION_AIRPORT': 'MIA', 'SCHEDULED_DEPARTURE': '0100', 'DEPARTURE_TIME': '0052', 'DEPARTURE_DELAY': '-8', 'TAXI_OUT': '30', 'WHEELS_OFF': '0122', 'SCHEDULED_TIME': '338', 'ELAPSED_TIME': '347', 'AIR_TIME': '311', 'DISTANCE': '2724', 'WHEELS_ON': '0933', 'TAXI_IN': '6', 'SCHEDULED_ARRIVAL': '0938', 'ARRIVAL_TIME': '0939', 'ARRIVAL_DELAY': '1', 'DIVERTED': '0', 'CANCELLED': '0', 'CANCELLATION_REASON': '', 'AIR_SYSTEM_DELAY': '', 'SECURITY_DELAY': '', 'AIRLINE_DELAY': '', 'LATE_AIRCRAFT_DELAY': '', 'WEATHER_DELAY': ''}\n",
      "Sent: {'YEAR': '2015', 'MONTH': '1', 'DAY': '1', 'DAY_OF_WEEK': '4', 'AIRLINE': 'NK', 'FLIGHT_NUMBER': '214', 'TAIL_NUMBER': 'N632NK', 'ORIGIN_AIRPORT': 'LAS', 'DESTINATION_AIRPORT': 'DFW', 'SCHEDULED_DEPARTURE': '0103', 'DEPARTURE_TIME': '0102', 'DEPARTURE_DELAY': '-1', 'TAXI_OUT': '13', 'WHEELS_OFF': '0115', 'SCHEDULED_TIME': '147', 'ELAPSED_TIME': '147', 'AIR_TIME': '128', 'DISTANCE': '1055', 'WHEELS_ON': '0523', 'TAXI_IN': '6', 'SCHEDULED_ARRIVAL': '0530', 'ARRIVAL_TIME': '0529', 'ARRIVAL_DELAY': '-1', 'DIVERTED': '0', 'CANCELLED': '0', 'CANCELLATION_REASON': '', 'AIR_SYSTEM_DELAY': '', 'SECURITY_DELAY': '', 'AIRLINE_DELAY': '', 'LATE_AIRCRAFT_DELAY': '', 'WEATHER_DELAY': ''}\n"
     ]
    },
    {
     "ename": "KeyboardInterrupt",
     "evalue": "",
     "output_type": "error",
     "traceback": [
      "\u001b[0;31m---------------------------------------------------------------------------\u001b[0m",
      "\u001b[0;31mKeyboardInterrupt\u001b[0m                         Traceback (most recent call last)",
      "Cell \u001b[0;32mIn[18], line 21\u001b[0m\n\u001b[1;32m     19\u001b[0m file_path \u001b[38;5;241m=\u001b[39m \u001b[38;5;124mr\u001b[39m\u001b[38;5;124m'\u001b[39m\u001b[38;5;124m/home/mosko/BDSP_Project/flights.csv\u001b[39m\u001b[38;5;124m'\u001b[39m\n\u001b[1;32m     20\u001b[0m \u001b[38;5;28mprint\u001b[39m(\u001b[38;5;124m\"\u001b[39m\u001b[38;5;124mStarting to produce messages...\u001b[39m\u001b[38;5;124m\"\u001b[39m)\n\u001b[0;32m---> 21\u001b[0m \u001b[43mproduce_messages\u001b[49m\u001b[43m(\u001b[49m\u001b[43mfile_path\u001b[49m\u001b[43m)\u001b[49m\n",
      "Cell \u001b[0;32mIn[18], line 14\u001b[0m, in \u001b[0;36mproduce_messages\u001b[0;34m(file_path)\u001b[0m\n\u001b[1;32m     12\u001b[0m         producer\u001b[38;5;241m.\u001b[39msend(topic, value\u001b[38;5;241m=\u001b[39mrow)\n\u001b[1;32m     13\u001b[0m         \u001b[38;5;28mprint\u001b[39m(\u001b[38;5;124mf\u001b[39m\u001b[38;5;124m\"\u001b[39m\u001b[38;5;124mSent: \u001b[39m\u001b[38;5;132;01m{\u001b[39;00mrow\u001b[38;5;132;01m}\u001b[39;00m\u001b[38;5;124m\"\u001b[39m)\n\u001b[0;32m---> 14\u001b[0m         \u001b[43mtime\u001b[49m\u001b[38;5;241;43m.\u001b[39;49m\u001b[43msleep\u001b[49m\u001b[43m(\u001b[49m\u001b[38;5;241;43m1\u001b[39;49m\u001b[43m)\u001b[49m  \u001b[38;5;66;03m# Simulate delay between messages\u001b[39;00m\n\u001b[1;32m     15\u001b[0m producer\u001b[38;5;241m.\u001b[39mflush()\n",
      "\u001b[0;31mKeyboardInterrupt\u001b[0m: "
     ]
    }
   ],
   "source": [
    "topic = 'bdsp_topic_test'\n",
    "\n",
    "import os\n",
    "\n",
    "def produce_messages(file_path):\n",
    "    if not os.path.exists(file_path):\n",
    "        print(f\"Error: File '{file_path}' not found.\")\n",
    "        return\n",
    "    with open(file_path, 'r') as file:\n",
    "        reader = csv.DictReader(file)\n",
    "        for row in reader:\n",
    "            producer.send(topic, value=row)\n",
    "            print(f\"Sent: {row}\")\n",
    "            time.sleep(1)  # Simulate delay between messages\n",
    "    producer.flush()\n",
    "\n",
    "\n",
    "if __name__ == \"__main__\":\n",
    "    file_path = r'/home/mosko/BDSP_Project/flights.csv'\n",
    "    print(\"Starting to produce messages...\")\n",
    "    produce_messages(file_path)"
   ]
  },
  {
   "cell_type": "markdown",
   "id": "a635368f",
   "metadata": {},
   "source": []
  }
 ],
 "metadata": {
  "kernelspec": {
   "display_name": "PyIceberg Lab (datalab)",
   "language": "python",
   "name": "datalab"
  },
  "language_info": {
   "codemirror_mode": {
    "name": "ipython",
    "version": 3
   },
   "file_extension": ".py",
   "mimetype": "text/x-python",
   "name": "python",
   "nbconvert_exporter": "python",
   "pygments_lexer": "ipython3",
   "version": "3.10.18"
  }
 },
 "nbformat": 4,
 "nbformat_minor": 5
}
