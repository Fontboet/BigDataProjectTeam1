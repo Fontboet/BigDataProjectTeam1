{
 "cells": [
  {
   "cell_type": "markdown",
   "id": "10bbcbb8",
   "metadata": {},
   "source": [
    "**Importing librairies**"
   ]
  },
  {
   "cell_type": "code",
   "execution_count": 1,
   "id": "39f0ecbd",
   "metadata": {},
   "outputs": [
    {
     "name": "stdout",
     "output_type": "stream",
     "text": [
      "Libraries imported successfully.\n"
     ]
    }
   ],
   "source": [
    "from kafka import KafkaProducer\n",
    "import csv\n",
    "import json\n",
    "import time\n",
    "\n",
    "print(\"Libraries imported successfully.\")"
   ]
  },
  {
   "cell_type": "code",
   "execution_count": 2,
   "id": "62d44aac",
   "metadata": {},
   "outputs": [],
   "source": [
    "producer = KafkaProducer(bootstrap_servers='localhost:9092', value_serializer=lambda v: json.dumps(v).encode('utf-8'))"
   ]
  },
  {
   "cell_type": "code",
   "execution_count": null,
   "id": "99a80984",
   "metadata": {},
   "outputs": [
    {
     "name": "stdout",
     "output_type": "stream",
     "text": [
      "Starting to produce messages...\n"
     ]
    }
   ],
   "source": [
    "topic = 'bdsp_topic_test'\n",
    "\n",
    "import os\n",
    "\n",
    "def produce_messages(file_path):\n",
    "    if not os.path.exists(file_path):\n",
    "        print(f\"Error: File '{file_path}' not found.\")\n",
    "        return\n",
    "    with open(file_path, 'r') as file:\n",
    "        reader = csv.DictReader(file)\n",
    "        for row in reader:\n",
    "            producer.send(topic, value=row)\n",
    "            # print(f\"Sent: {row}\")\n",
    "            # time.sleep(1)  # Simulate delay between messages\n",
    "    producer.flush()\n",
    "\n",
    "\n",
    "if __name__ == \"__main__\":\n",
    "    file_path = r'data/flights.csv'\n",
    "    print(\"Starting to produce messages...\")\n",
    "    produce_messages(file_path)\n",
    "    producer.close()"
   ]
  },
  {
   "cell_type": "markdown",
   "id": "a635368f",
   "metadata": {},
   "source": []
  }
 ],
 "metadata": {
  "kernelspec": {
   "display_name": "datalab",
   "language": "python",
   "name": "python3"
  },
  "language_info": {
   "codemirror_mode": {
    "name": "ipython",
    "version": 3
   },
   "file_extension": ".py",
   "mimetype": "text/x-python",
   "name": "python",
   "nbconvert_exporter": "python",
   "pygments_lexer": "ipython3",
   "version": "3.10.18"
  }
 },
 "nbformat": 4,
 "nbformat_minor": 5
}
